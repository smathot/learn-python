{
 "cells": [
  {
   "cell_type": "markdown",
   "metadata": {
    "slideshow": {
     "slide_type": "slide"
    }
   },
   "source": [
    "# EPOS Workshop"
   ]
  },
  {
   "cell_type": "markdown",
   "metadata": {
    "slideshow": {
     "slide_type": "fragment"
    }
   },
   "source": [
    "## Thursday, June 14\n",
    "\n",
    "- Morning: Learn Python\n",
    "- Afternoon: An introduction to experiment building with OpenSesame\n",
    "- Instructor: Sebastiaan Mathôt"
   ]
  },
  {
   "cell_type": "markdown",
   "metadata": {
    "slideshow": {
     "slide_type": "fragment"
    }
   },
   "source": [
    "## Friday, June 15\n",
    "\n",
    "- Analyzing EEG/ MEG data with Python MNE\n",
    "- Instructor: Jona Sassenhagen"
   ]
  },
  {
   "cell_type": "markdown",
   "metadata": {
    "slideshow": {
     "slide_type": "subslide"
    }
   },
   "source": [
    "# About me\n",
    "\n",
    "- Sebastiaan Mathôt\n",
    "    - http://www.cogsci.nl/smathot\n",
    "- Assistant Professor at Groningen University"
   ]
  },
  {
   "cell_type": "markdown",
   "metadata": {
    "slideshow": {
     "slide_type": "fragment"
    }
   },
   "source": [
    "- Developer of Python software\n",
    "    - OpenSesame, for builing experiments\n",
    "    - DataMatrix, for working with tabular data"
   ]
  },
  {
   "cell_type": "markdown",
   "metadata": {
    "slideshow": {
     "slide_type": "fragment"
    }
   },
   "source": [
    "- Author of Python courses/ tutorials\n",
    "    - http://youtube.com/sebastiaanmathot\n",
    "    - http://python.cogsci.nl/\n",
    "    - Video courses on Packt"
   ]
  },
  {
   "cell_type": "markdown",
   "metadata": {
    "slideshow": {
     "slide_type": "subslide"
    }
   },
   "source": [
    "# The morning program\n",
    "\n",
    "- Centrally:\n",
    "    - This presentation"
   ]
  },
  {
   "cell_type": "markdown",
   "metadata": {
    "slideshow": {
     "slide_type": "fragment"
    }
   },
   "source": [
    "- Individually:\n",
    "    - Booklet with 5 sections\n",
    "        - Syntax\n",
    "        - Iterables: `list`, `dict`, `tuple`, and `set`\n",
    "        - Loops: `for` and `while`\n",
    "        - Functions\n",
    "        - Modules\n",
    "        - Exceptions: error handling\n",
    "    - Each section ends with an exercise\n",
    "    - Also on <http://python.cogsci.nl/>"
   ]
  },
  {
   "cell_type": "markdown",
   "metadata": {
    "slideshow": {
     "slide_type": "slide"
    }
   },
   "source": [
    "# Python\n",
    "\n",
    "- 4th most widely used programming language in the world[^1]\n",
    "- A high-level programming language\n",
    "- Originally developed here in Amsterdam at the CWI (Centrum Wiskunde & Informatica) by Guido van Rossum\n",
    "\n",
    "\n",
    "[^1]: https://www.tiobe.com/tiobe-index/\n"
   ]
  },
  {
   "cell_type": "markdown",
   "metadata": {
    "slideshow": {
     "slide_type": "slide"
    }
   },
   "source": [
    "# Syntax"
   ]
  },
  {
   "cell_type": "markdown",
   "metadata": {
    "slideshow": {
     "slide_type": "slide"
    }
   },
   "source": [
    "# Syntax"
   ]
  },
  {
   "cell_type": "code",
   "execution_count": 1,
   "metadata": {
    "slideshow": {
     "slide_type": "fragment"
    }
   },
   "outputs": [],
   "source": [
    "# This is a comment"
   ]
  },
  {
   "cell_type": "code",
   "execution_count": 2,
   "metadata": {
    "slideshow": {
     "slide_type": "fragment"
    }
   },
   "outputs": [],
   "source": [
    "my_str = 'Some text'\n",
    "my_int = 1\n",
    "my_float = 3.14\n",
    "my_bool = True\n",
    "my_none = None\n",
    "a = b = 2\n",
    "c, d = 3, 4"
   ]
  },
  {
   "cell_type": "code",
   "execution_count": 3,
   "metadata": {
    "slideshow": {
     "slide_type": "fragment"
    }
   },
   "outputs": [
    {
     "name": "stdout",
     "output_type": "stream",
     "text": [
      "Enter your name: Sebastiaan\n",
      "Hi Sebastiaan!\n"
     ]
    }
   ],
   "source": [
    "user_input = input('Enter your name: ')\n",
    "if user_input == '':\n",
    "    print('Don\\'t you have a name?')\n",
    "else:\n",
    "    print('Hi {0}!'.format(user_input))"
   ]
  },
  {
   "cell_type": "markdown",
   "metadata": {
    "slideshow": {
     "slide_type": "slide"
    }
   },
   "source": [
    "# Iterables: `list`, `dict`, `tuple`, and `set`"
   ]
  },
  {
   "cell_type": "markdown",
   "metadata": {
    "slideshow": {
     "slide_type": "slide"
    }
   },
   "source": [
    "# Iterables\n",
    "\n",
    "- An *iterable* object is a collection of elements that you can iterate through one element at a time"
   ]
  },
  {
   "cell_type": "markdown",
   "metadata": {
    "slideshow": {
     "slide_type": "fragment"
    }
   },
   "source": [
    "- Built-in iterables\n",
    "    - `list`\n",
    "    - `dict`\n",
    "    - `tuple`\n",
    "    - `set`"
   ]
  },
  {
   "cell_type": "markdown",
   "metadata": {
    "slideshow": {
     "slide_type": "fragment"
    }
   },
   "source": [
    "- An iterable is\n",
    "    - *ordered* if you can retrieve its elements in a predictable order\n",
    "    - *mutable* if you can change which elements it contains"
   ]
  },
  {
   "cell_type": "markdown",
   "metadata": {
    "slideshow": {
     "slide_type": "subslide"
    }
   },
   "source": [
    "# List\n",
    "\n",
    "- An ordered, mutable collection of elements\n",
    "- Elements can be anything: `int`, `str`, and even other `list`s"
   ]
  },
  {
   "cell_type": "code",
   "execution_count": 4,
   "metadata": {
    "slideshow": {
     "slide_type": "fragment"
    }
   },
   "outputs": [
    {
     "name": "stdout",
     "output_type": "stream",
     "text": [
      "[1, 3, 5, 7, 11, 13]\n"
     ]
    }
   ],
   "source": [
    "prime_numbers = [1, 3, 5, 7, 11, 13]\n",
    "print(prime_numbers)"
   ]
  },
  {
   "cell_type": "markdown",
   "metadata": {
    "slideshow": {
     "slide_type": "subslide"
    }
   },
   "source": [
    "# List: indexing"
   ]
  },
  {
   "cell_type": "code",
   "execution_count": 5,
   "metadata": {
    "slideshow": {
     "slide_type": "fragment"
    }
   },
   "outputs": [
    {
     "name": "stdout",
     "output_type": "stream",
     "text": [
      "1\n",
      "13\n"
     ]
    }
   ],
   "source": [
    "# The first element (0)\n",
    "print(prime_numbers[0])\n",
    "# The last element (-1)\n",
    "print(prime_numbers[-1])"
   ]
  },
  {
   "cell_type": "markdown",
   "metadata": {
    "slideshow": {
     "slide_type": "subslide"
    }
   },
   "source": [
    "# List: slicing"
   ]
  },
  {
   "cell_type": "code",
   "execution_count": 6,
   "metadata": {
    "slideshow": {
     "slide_type": "fragment"
    }
   },
   "outputs": [
    {
     "name": "stdout",
     "output_type": "stream",
     "text": [
      "[1, 3]\n",
      "[3, 7]\n",
      "[13, 11, 7, 5, 3, 1]\n",
      "[1, 3, 5, 7, 11, 13]\n"
     ]
    }
   ],
   "source": [
    "# Get the first two elements\n",
    "print(prime_numbers[:2])\n",
    "# From the second to the second-to-last in steps of 2\n",
    "print(prime_numbers[1:-2:2])\n",
    "# Reverse the list (steps of -1)\n",
    "print(prime_numbers[::-1])\n",
    "# Copy the list (full slice)\n",
    "print(prime_numbers[:])"
   ]
  },
  {
   "cell_type": "markdown",
   "metadata": {
    "slideshow": {
     "slide_type": "subslide"
    }
   },
   "source": [
    "# Dict\n",
    "\n",
    "- An unordered, mutable collection of key-value pairs"
   ]
  },
  {
   "cell_type": "code",
   "execution_count": 7,
   "metadata": {
    "slideshow": {
     "slide_type": "fragment"
    }
   },
   "outputs": [
    {
     "name": "stdout",
     "output_type": "stream",
     "text": [
      "{'Jay-Z': 47, 'Emanuel Macron': 40}\n"
     ]
    }
   ],
   "source": [
    "ages = {\n",
    "    'Jay-Z': 47,\n",
    "    'Emanuel Macron': 40\n",
    "}\n",
    "\n",
    "print(ages)"
   ]
  },
  {
   "cell_type": "markdown",
   "metadata": {
    "slideshow": {
     "slide_type": "subslide"
    }
   },
   "source": [
    "# Dict: indexing\n",
    "\n",
    "- You get a value by its key\n",
    "- `dict.get()` allows you to specify a fallback value"
   ]
  },
  {
   "cell_type": "code",
   "execution_count": 8,
   "metadata": {
    "slideshow": {
     "slide_type": "fragment"
    }
   },
   "outputs": [
    {
     "name": "stdout",
     "output_type": "stream",
     "text": [
      "47\n",
      "unknown\n"
     ]
    }
   ],
   "source": [
    "print(ages['Jay-Z'])\n",
    "print(ages.get('Johnny Depp', 'unknown'))"
   ]
  },
  {
   "cell_type": "markdown",
   "metadata": {
    "slideshow": {
     "slide_type": "subslide"
    }
   },
   "source": [
    "# Tuple\n",
    "\n",
    "- An ordered, immutable collection of elements\n",
    "- Very similar to a `list`, but immutable!"
   ]
  },
  {
   "cell_type": "code",
   "execution_count": 9,
   "metadata": {
    "slideshow": {
     "slide_type": "fragment"
    }
   },
   "outputs": [],
   "source": [
    "fibonacci = 1, 1, 2, 3, 5, 8\n",
    "# Parentheses are optional\n",
    "fibonacci = (1, 1, 2, 3, 5, 8)"
   ]
  },
  {
   "cell_type": "markdown",
   "metadata": {
    "slideshow": {
     "slide_type": "subslide"
    }
   },
   "source": [
    "# Set\n",
    "\n",
    "- An unordered, immutable collection of unique elements\n",
    "- An implementation of *set theory*"
   ]
  },
  {
   "cell_type": "code",
   "execution_count": 10,
   "metadata": {
    "slideshow": {
     "slide_type": "fragment"
    }
   },
   "outputs": [
    {
     "name": "stdout",
     "output_type": "stream",
     "text": [
      "True\n"
     ]
    }
   ],
   "source": [
    "vowels = {'a', 'e', 'i', 'o', 'u'}\n",
    "print(vowels == {'a', 'e', 'i', 'o', 'u', 'u'})"
   ]
  },
  {
   "cell_type": "markdown",
   "metadata": {
    "slideshow": {
     "slide_type": "subslide"
    }
   },
   "source": [
    "# Set: operations\n",
    "\n",
    "- The `set` also supports standard operations from set theory"
   ]
  },
  {
   "cell_type": "code",
   "execution_count": 11,
   "metadata": {
    "slideshow": {
     "slide_type": "fragment"
    }
   },
   "outputs": [
    {
     "name": "stdout",
     "output_type": "stream",
     "text": [
      "Union: {'u', 'a', 'o', 'e', 'i'}\n",
      "Intersection: {'i'}\n"
     ]
    }
   ],
   "source": [
    "vowels_1 = {'a', 'e', 'i'}\n",
    "vowels_2 = {'i', 'o', 'u'}\n",
    "print('Union: {0}'.format(vowels_1 | vowels_2))\n",
    "print('Intersection: {0}'.format(vowels_1 & vowels_2))"
   ]
  },
  {
   "cell_type": "markdown",
   "metadata": {
    "slideshow": {
     "slide_type": "subslide"
    }
   },
   "source": [
    "# len()\n",
    "\n",
    "- All built-in iterables have a length, which you can get with `len()`\n",
    "- But some special iterables don't!"
   ]
  },
  {
   "cell_type": "code",
   "execution_count": 12,
   "metadata": {
    "slideshow": {
     "slide_type": "fragment"
    }
   },
   "outputs": [
    {
     "name": "stdout",
     "output_type": "stream",
     "text": [
      "[1, 3, 5, 7, 11, 13]\n",
      "6\n"
     ]
    }
   ],
   "source": [
    "print(prime_numbers)\n",
    "print(len(prime_numbers))"
   ]
  },
  {
   "cell_type": "markdown",
   "metadata": {
    "slideshow": {
     "slide_type": "subslide"
    }
   },
   "source": [
    "# in\n",
    "\n",
    "- All iterables support `in` to check whether they contain an element"
   ]
  },
  {
   "cell_type": "code",
   "execution_count": 13,
   "metadata": {
    "slideshow": {
     "slide_type": "fragment"
    }
   },
   "outputs": [
    {
     "name": "stdout",
     "output_type": "stream",
     "text": [
      "[1, 3, 5, 7, 11, 13]\n",
      "True\n",
      "False\n"
     ]
    }
   ],
   "source": [
    "print(prime_numbers)\n",
    "print(3 in prime_numbers)\n",
    "print(3 not in prime_numbers)"
   ]
  },
  {
   "cell_type": "markdown",
   "metadata": {
    "slideshow": {
     "slide_type": "slide"
    }
   },
   "source": [
    "# Loops: `for` and `while`"
   ]
  },
  {
   "cell_type": "markdown",
   "metadata": {
    "slideshow": {
     "slide_type": "slide"
    }
   },
   "source": [
    "# Loops: `for`\n",
    "\n",
    "- A `for` loop executes a code block for each element in an iterable, such as a `list`"
   ]
  },
  {
   "cell_type": "code",
   "execution_count": 14,
   "metadata": {
    "slideshow": {
     "slide_type": "fragment"
    }
   },
   "outputs": [
    {
     "name": "stdout",
     "output_type": "stream",
     "text": [
      "1\n",
      "3\n",
      "5\n",
      "7\n",
      "11\n"
     ]
    }
   ],
   "source": [
    "prime_numbers = [1, 3, 5, 7, 11]\n",
    "for prime in prime_numbers:\n",
    "    print(prime)"
   ]
  },
  {
   "cell_type": "markdown",
   "metadata": {
    "slideshow": {
     "slide_type": "subslide"
    }
   },
   "source": [
    "# Loops: `for`\n",
    "\n",
    "- If you iterate through a `dict`, you iterate through its keys.\n",
    "- To iterate through the keys and the values at the same time, use `dict.items()`"
   ]
  },
  {
   "cell_type": "code",
   "execution_count": 15,
   "metadata": {
    "slideshow": {
     "slide_type": "fragment"
    }
   },
   "outputs": [
    {
     "name": "stdout",
     "output_type": "stream",
     "text": [
      "Jay-Z is 47 years old\n",
      "Emanuel Macron is 40 years old\n"
     ]
    }
   ],
   "source": [
    "ages = {\n",
    "    'Jay-Z': 47,\n",
    "    'Emanuel Macron': 40\n",
    "}\n",
    "for name, age in ages.items():\n",
    "    print('{0} is {1} years old'.format(name, age))"
   ]
  },
  {
   "cell_type": "markdown",
   "metadata": {
    "slideshow": {
     "slide_type": "subslide"
    }
   },
   "source": [
    "# Loops: `while`\n",
    "\n",
    "- A `while` loop executes a code block until a particular condition is no longer True"
   ]
  },
  {
   "cell_type": "code",
   "execution_count": 16,
   "metadata": {
    "slideshow": {
     "slide_type": "fragment"
    }
   },
   "outputs": [
    {
     "name": "stdout",
     "output_type": "stream",
     "text": [
      ">>> Hello!\n",
      "The user said: Hello!\n",
      ">>> quit\n",
      "The user said: quit\n"
     ]
    }
   ],
   "source": [
    "user_input = ''\n",
    "while user_input != 'quit':\n",
    "    user_input = input('>>> ')\n",
    "    print('The user said: {0}'.format(user_input))"
   ]
  },
  {
   "cell_type": "markdown",
   "metadata": {
    "slideshow": {
     "slide_type": "subslide"
    }
   },
   "source": [
    "# Loops: `continue`\n",
    "\n",
    "- Aborts a single iteration of a loop, and continues with the next iteration"
   ]
  },
  {
   "cell_type": "code",
   "execution_count": 17,
   "metadata": {
    "slideshow": {
     "slide_type": "fragment"
    }
   },
   "outputs": [
    {
     "name": "stdout",
     "output_type": "stream",
     "text": [
      "Berlin is a capital\n",
      "Tokyo is a capital\n"
     ]
    }
   ],
   "source": [
    "cities = ['Berlin', 'São Paulo', 'Tokyo', 'New York']\n",
    "capitals = ['Berlin', 'Tokyo']\n",
    "for city in cities:\n",
    "    # If the current city is not a capital, continue with the next city\n",
    "    if city not in capitals:\n",
    "        continue\n",
    "    print('{0} is a capital'.format(city))"
   ]
  },
  {
   "cell_type": "markdown",
   "metadata": {
    "slideshow": {
     "slide_type": "subslide"
    }
   },
   "source": [
    "# Loops: `break`\n",
    "\n",
    "- Aborts a loop entirely"
   ]
  },
  {
   "cell_type": "code",
   "execution_count": 18,
   "metadata": {
    "slideshow": {
     "slide_type": "fragment"
    }
   },
   "outputs": [
    {
     "name": "stdout",
     "output_type": "stream",
     "text": [
      "1\n",
      "3\n",
      "5\n",
      "7\n"
     ]
    }
   ],
   "source": [
    "for prime in prime_numbers:\n",
    "    # Abort the loop when we reach a number that is 10 or higher\n",
    "    if prime >= 10:\n",
    "        break\n",
    "    print(prime)"
   ]
  },
  {
   "cell_type": "markdown",
   "metadata": {
    "slideshow": {
     "slide_type": "subslide"
    }
   },
   "source": [
    "# Loops: `range()`\n",
    "\n",
    "- Gives a range of numbers"
   ]
  },
  {
   "cell_type": "code",
   "execution_count": 19,
   "metadata": {
    "slideshow": {
     "slide_type": "fragment"
    }
   },
   "outputs": [
    {
     "name": "stdout",
     "output_type": "stream",
     "text": [
      "0\n",
      "1\n",
      "2\n"
     ]
    }
   ],
   "source": [
    "for i in range(3):\n",
    "    print(i)"
   ]
  },
  {
   "cell_type": "markdown",
   "metadata": {
    "slideshow": {
     "slide_type": "subslide"
    }
   },
   "source": [
    "# Loops: `enumerate()`\n",
    "\n",
    "- Takes an iterable, and returns another iterable in which each element is paired with a counter variable"
   ]
  },
  {
   "cell_type": "code",
   "execution_count": 20,
   "metadata": {
    "slideshow": {
     "slide_type": "fragment"
    }
   },
   "outputs": [
    {
     "name": "stdout",
     "output_type": "stream",
     "text": [
      "0: Berlin\n",
      "1: São Paulo\n",
      "2: Tokyo\n",
      "3: New York\n"
     ]
    }
   ],
   "source": [
    "cities = ['Berlin', 'São Paulo', 'Tokyo', 'New York']\n",
    "# Without enumerate()\n",
    "i = 0\n",
    "for city in cities:\n",
    "    print('{0}: {1}'.format(i, city))\n",
    "    i += 1"
   ]
  },
  {
   "cell_type": "code",
   "execution_count": 21,
   "metadata": {
    "slideshow": {
     "slide_type": "fragment"
    }
   },
   "outputs": [
    {
     "name": "stdout",
     "output_type": "stream",
     "text": [
      "0: Berlin\n",
      "1: São Paulo\n",
      "2: Tokyo\n",
      "3: New York\n"
     ]
    }
   ],
   "source": [
    "# With enumerate()\n",
    "for i, city in enumerate(cities):\n",
    "    print('{0}: {1}'.format(i, city))"
   ]
  },
  {
   "cell_type": "markdown",
   "metadata": {
    "slideshow": {
     "slide_type": "subslide"
    }
   },
   "source": [
    "# Loops: `zip()`\n",
    "\n",
    "- Takes one or more iterables, and returns a zipped iterable in which elements from the original iterables are paired"
   ]
  },
  {
   "cell_type": "code",
   "execution_count": 22,
   "metadata": {
    "slideshow": {
     "slide_type": "fragment"
    }
   },
   "outputs": [
    {
     "name": "stdout",
     "output_type": "stream",
     "text": [
      "The Beatles sold 600000000.0 records\n",
      "Elvis Presley sold 600000000.0 records\n",
      "Michael Jackson sold 350000000.0 records\n",
      "Madonna sold 300000000.0 records\n"
     ]
    }
   ],
   "source": [
    "artists = 'The Beatles', 'Elvis Presley', 'Michael Jackson', 'Madonna'\n",
    "sales = 600e6, 600e6, 350e6, 300e6\n",
    "# Without zip()\n",
    "for i in range(min(len(artists), len(sales))):\n",
    "    artist = artists[i]\n",
    "    sold = sales[i]\n",
    "    print('{0} sold {1} records'.format(artist, sold))"
   ]
  },
  {
   "cell_type": "code",
   "execution_count": 23,
   "metadata": {
    "scrolled": true,
    "slideshow": {
     "slide_type": "fragment"
    }
   },
   "outputs": [
    {
     "name": "stdout",
     "output_type": "stream",
     "text": [
      "The Beatles sold 600000000.0 records\n",
      "Elvis Presley sold 600000000.0 records\n",
      "Michael Jackson sold 350000000.0 records\n",
      "Madonna sold 300000000.0 records\n"
     ]
    }
   ],
   "source": [
    "# With zip()\n",
    "for artist, sold in zip(artists, sales):\n",
    "    print('{0} sold {1} records'.format(artist, sold))"
   ]
  },
  {
   "cell_type": "markdown",
   "metadata": {
    "slideshow": {
     "slide_type": "slide"
    }
   },
   "source": [
    "# Functions"
   ]
  },
  {
   "cell_type": "markdown",
   "metadata": {
    "slideshow": {
     "slide_type": "slide"
    }
   },
   "source": [
    "# Functions\n",
    "\n",
    "- A re-usable code block, typically with a name\n",
    "- Avoids code duplication\n",
    "- Provides structure, thus improving code readability"
   ]
  },
  {
   "cell_type": "markdown",
   "metadata": {
    "slideshow": {
     "slide_type": "subslide"
    }
   },
   "source": [
    "# Functions"
   ]
  },
  {
   "cell_type": "code",
   "execution_count": 24,
   "metadata": {
    "slideshow": {
     "slide_type": "-"
    }
   },
   "outputs": [
    {
     "name": "stdout",
     "output_type": "stream",
     "text": [
      "a = 1, b = 1, c = 1.4142135623730951\n"
     ]
    }
   ],
   "source": [
    "def pythagoras():\n",
    "\n",
    "    a = b = 1\n",
    "    c = (a ** 2 + b ** 2) ** .5\n",
    "    print('a = {0}, b = {1}, c = {2}'.format(a, b, c))\n",
    "\n",
    "\n",
    "pythagoras() # Call the function"
   ]
  },
  {
   "cell_type": "markdown",
   "metadata": {
    "slideshow": {
     "slide_type": "subslide"
    }
   },
   "source": [
    "# Function arguments"
   ]
  },
  {
   "cell_type": "code",
   "execution_count": 25,
   "metadata": {
    "slideshow": {
     "slide_type": "-"
    }
   },
   "outputs": [
    {
     "name": "stdout",
     "output_type": "stream",
     "text": [
      "a = 1, b = 1, c = 1.4142135623730951\n"
     ]
    }
   ],
   "source": [
    "def pythagoras(a, b):\n",
    "\n",
    "    c = (a ** 2 + b ** 2) ** .5\n",
    "    print('a = {0}, b = {1}, c = {2}'.format(a, b, c))\n",
    "\n",
    "\n",
    "pythagoras(1, 1)"
   ]
  },
  {
   "cell_type": "markdown",
   "metadata": {
    "slideshow": {
     "slide_type": "subslide"
    }
   },
   "source": [
    "# Function keywords"
   ]
  },
  {
   "cell_type": "code",
   "execution_count": 26,
   "metadata": {},
   "outputs": [
    {
     "name": "stdout",
     "output_type": "stream",
     "text": [
      "a = 2, b = 1, c = 2.23606797749979\n"
     ]
    }
   ],
   "source": [
    "def pythagoras(a=1, b=1):\n",
    "\n",
    "    c = (a ** 2 + b ** 2) ** .5\n",
    "    print('a = {0}, b = {1}, c = {2}'.format(a, b, c))\n",
    "\n",
    "\n",
    "pythagoras(a=2)"
   ]
  },
  {
   "cell_type": "markdown",
   "metadata": {
    "slideshow": {
     "slide_type": "subslide"
    }
   },
   "source": [
    "# Return values"
   ]
  },
  {
   "cell_type": "code",
   "execution_count": 27,
   "metadata": {},
   "outputs": [
    {
     "name": "stdout",
     "output_type": "stream",
     "text": [
      "a = 1, b = 1, c = 1.4142135623730951\n"
     ]
    }
   ],
   "source": [
    "def pythagoras(a=1, b=1):\n",
    "\n",
    "    return (a ** 2 + b ** 2) ** .5\n",
    "\n",
    "\n",
    "a = b = 1\n",
    "c = pythagoras(a, b)\n",
    "print('a = {0}, b = {1}, c = {2}'.format(a, b, c))"
   ]
  },
  {
   "cell_type": "markdown",
   "metadata": {
    "slideshow": {
     "slide_type": "subslide"
    }
   },
   "source": [
    "# Docstrings"
   ]
  },
  {
   "cell_type": "code",
   "execution_count": 28,
   "metadata": {},
   "outputs": [
    {
     "name": "stdout",
     "output_type": "stream",
     "text": [
      "a = 1, b = 1, c = 1.4142135623730951\n"
     ]
    }
   ],
   "source": [
    "def pythagoras(a=1, b=1):    \n",
    "    \"\"\"Returns the length of the long side of a right triangle\n",
    "    given two short sides a and b.\n",
    "    \"\"\"\n",
    "    return (a ** 2 + b ** 2) ** .5\n",
    "\n",
    "a = b = 1\n",
    "c = pythagoras(a, b)\n",
    "print('a = {0}, b = {1}, c = {2}'.format(a, b, c))"
   ]
  },
  {
   "cell_type": "markdown",
   "metadata": {
    "slideshow": {
     "slide_type": "slide"
    }
   },
   "source": [
    "# Modules"
   ]
  },
  {
   "cell_type": "markdown",
   "metadata": {
    "slideshow": {
     "slide_type": "slide"
    }
   },
   "source": [
    "# Modules\n",
    "\n",
    "- Some *built-in* functions, such as `len()`, are always available\n",
    "- But *modules* offer many more functionality\n",
    "- Some modules are included with Python\n",
    "    - The Python Standard Library\n",
    "- Some modules need to be installed separately\n",
    "    - `numpy`\n",
    "    - `mne`\n",
    "    - `datamatrix`\n",
    "    - etc."
   ]
  },
  {
   "cell_type": "markdown",
   "metadata": {
    "slideshow": {
     "slide_type": "subslide"
    }
   },
   "source": [
    "# `import`"
   ]
  },
  {
   "cell_type": "code",
   "execution_count": 29,
   "metadata": {},
   "outputs": [
    {
     "name": "stdout",
     "output_type": "stream",
     "text": [
      "7\n"
     ]
    }
   ],
   "source": [
    "# Preferred\n",
    "import random\n",
    "prime_numbers = [1, 3, 5, 7, 11]\n",
    "print(random.choice(prime_numbers))"
   ]
  },
  {
   "cell_type": "markdown",
   "metadata": {
    "slideshow": {
     "slide_type": "subslide"
    }
   },
   "source": [
    "# `import`"
   ]
  },
  {
   "cell_type": "code",
   "execution_count": 30,
   "metadata": {},
   "outputs": [
    {
     "name": "stdout",
     "output_type": "stream",
     "text": [
      "7\n"
     ]
    }
   ],
   "source": [
    "# Not preferred\n",
    "from random import *\n",
    "print(choice(prime_numbers))"
   ]
  },
  {
   "cell_type": "markdown",
   "metadata": {
    "slideshow": {
     "slide_type": "subslide"
    }
   },
   "source": [
    "# `import`"
   ]
  },
  {
   "cell_type": "code",
   "execution_count": 31,
   "metadata": {},
   "outputs": [
    {
     "name": "stdout",
     "output_type": "stream",
     "text": [
      "7\n"
     ]
    }
   ],
   "source": [
    "# Not preferred\n",
    "import random as rnd\n",
    "print(rnd.choice(prime_numbers))"
   ]
  },
  {
   "cell_type": "markdown",
   "metadata": {
    "slideshow": {
     "slide_type": "slide"
    }
   },
   "source": [
    "# Exceptions: error handling"
   ]
  },
  {
   "cell_type": "markdown",
   "metadata": {
    "slideshow": {
     "slide_type": "slide"
    }
   },
   "source": [
    "# `SyntaxError`\n",
    "\n",
    "- Signals syntactically invalid Python code\n",
    "- No code is executed at all"
   ]
  },
  {
   "cell_type": "code",
   "execution_count": 32,
   "metadata": {},
   "outputs": [
    {
     "ename": "SyntaxError",
     "evalue": "invalid syntax (<ipython-input-32-25b1bcd0cffd>, line 1)",
     "output_type": "error",
     "traceback": [
      "\u001b[0;36m  File \u001b[0;32m\"<ipython-input-32-25b1bcd0cffd>\"\u001b[0;36m, line \u001b[0;32m1\u001b[0m\n\u001b[0;31m    if x = 0:\u001b[0m\n\u001b[0m         ^\u001b[0m\n\u001b[0;31mSyntaxError\u001b[0m\u001b[0;31m:\u001b[0m invalid syntax\n"
     ]
    }
   ],
   "source": [
    "if x = 0:\n",
    "    print('x is 0')"
   ]
  },
  {
   "cell_type": "markdown",
   "metadata": {
    "slideshow": {
     "slide_type": "subslide"
    }
   },
   "source": [
    "# `Exception`\n",
    "\n",
    "- Error during execution syntactically valid Python code"
   ]
  },
  {
   "cell_type": "code",
   "execution_count": 33,
   "metadata": {},
   "outputs": [
    {
     "ename": "ZeroDivisionError",
     "evalue": "division by zero",
     "output_type": "error",
     "traceback": [
      "\u001b[0;31m---------------------------------------------------------------------------\u001b[0m",
      "\u001b[0;31mZeroDivisionError\u001b[0m                         Traceback (most recent call last)",
      "\u001b[0;32m<ipython-input-33-d67b15c541d1>\u001b[0m in \u001b[0;36m<module>\u001b[0;34m()\u001b[0m\n\u001b[1;32m      4\u001b[0m \u001b[0;34m\u001b[0m\u001b[0m\n\u001b[1;32m      5\u001b[0m \u001b[0;34m\u001b[0m\u001b[0m\n\u001b[0;32m----> 6\u001b[0;31m \u001b[0moneover\u001b[0m\u001b[0;34m(\u001b[0m\u001b[0;36m0\u001b[0m\u001b[0;34m)\u001b[0m\u001b[0;34m\u001b[0m\u001b[0m\n\u001b[0m",
      "\u001b[0;32m<ipython-input-33-d67b15c541d1>\u001b[0m in \u001b[0;36moneover\u001b[0;34m(i)\u001b[0m\n\u001b[1;32m      1\u001b[0m \u001b[0;32mdef\u001b[0m \u001b[0moneover\u001b[0m\u001b[0;34m(\u001b[0m\u001b[0mi\u001b[0m\u001b[0;34m)\u001b[0m\u001b[0;34m:\u001b[0m\u001b[0;34m\u001b[0m\u001b[0m\n\u001b[1;32m      2\u001b[0m \u001b[0;34m\u001b[0m\u001b[0m\n\u001b[0;32m----> 3\u001b[0;31m     \u001b[0;32mreturn\u001b[0m \u001b[0;36m1\u001b[0m\u001b[0;34m/\u001b[0m\u001b[0mi\u001b[0m\u001b[0;34m\u001b[0m\u001b[0m\n\u001b[0m\u001b[1;32m      4\u001b[0m \u001b[0;34m\u001b[0m\u001b[0m\n\u001b[1;32m      5\u001b[0m \u001b[0;34m\u001b[0m\u001b[0m\n",
      "\u001b[0;31mZeroDivisionError\u001b[0m: division by zero"
     ]
    }
   ],
   "source": [
    "def oneover(i):\n",
    "\n",
    "    return 1/i\n",
    "\n",
    "\n",
    "oneover(0)"
   ]
  },
  {
   "cell_type": "markdown",
   "metadata": {
    "slideshow": {
     "slide_type": "subslide"
    }
   },
   "source": [
    "# `try … except …`\n",
    "\n",
    "- A way to catch `Exception`s so that your code doesn't crash"
   ]
  },
  {
   "cell_type": "code",
   "execution_count": 34,
   "metadata": {},
   "outputs": [
    {
     "name": "stdout",
     "output_type": "stream",
     "text": [
      "Some problem occurred\n",
      "I'm still alive!\n"
     ]
    }
   ],
   "source": [
    "try:\n",
    "    i = oneover(0)\n",
    "except: # A blank except is not preferred!\n",
    "    print('Some problem occurred')\n",
    "print(\"I'm still alive!\")"
   ]
  },
  {
   "cell_type": "markdown",
   "metadata": {
    "slideshow": {
     "slide_type": "fragment"
    }
   },
   "source": [
    "It's good style to specify *which* `Exception`s should be caught."
   ]
  },
  {
   "cell_type": "code",
   "execution_count": 35,
   "metadata": {},
   "outputs": [
    {
     "name": "stdout",
     "output_type": "stream",
     "text": [
      "A problem occurred: division by zero\n"
     ]
    }
   ],
   "source": [
    "try:\n",
    "    i = oneover(0)\n",
    "except (TypeError, ZeroDivisionError) as e:\n",
    "    print('A problem occurred: %s' % e)"
   ]
  },
  {
   "cell_type": "markdown",
   "metadata": {
    "slideshow": {
     "slide_type": "subslide"
    }
   },
   "source": [
    "# `else … finally …`\n",
    "\n",
    "- The `else` block is executed when no `Exception` occurred\n",
    "- The `finally` block is always executed"
   ]
  },
  {
   "cell_type": "code",
   "execution_count": 36,
   "metadata": {},
   "outputs": [
    {
     "name": "stdout",
     "output_type": "stream",
     "text": [
      "Expecting a non-zero number\n",
      "This is always executed\n"
     ]
    }
   ],
   "source": [
    "try:\n",
    "    i = oneover('x')\n",
    "except ZeroDivisionError as e:\n",
    "    print('Cannot divide by zero')\n",
    "except TypeError as e:\n",
    "    print('Expecting a non-zero number')\n",
    "else:\n",
    "    print('No exception occurred')\n",
    "finally:\n",
    "    print('This is always executed')"
   ]
  },
  {
   "cell_type": "markdown",
   "metadata": {
    "slideshow": {
     "slide_type": "subslide"
    }
   },
   "source": [
    "# Raising `Exception`s\n",
    "\n",
    "- A way to indicate that something went wrong\n",
    "- It's good style to `raise` one Python's built-in `Exception`s"
   ]
  },
  {
   "cell_type": "code",
   "execution_count": 37,
   "metadata": {},
   "outputs": [
    {
     "ename": "ValueError",
     "evalue": "Expecting a non-zero number",
     "output_type": "error",
     "traceback": [
      "\u001b[0;31m---------------------------------------------------------------------------\u001b[0m",
      "\u001b[0;31mValueError\u001b[0m                                Traceback (most recent call last)",
      "\u001b[0;32m<ipython-input-37-fe51615f564a>\u001b[0m in \u001b[0;36m<module>\u001b[0;34m()\u001b[0m\n\u001b[1;32m      6\u001b[0m \u001b[0;34m\u001b[0m\u001b[0m\n\u001b[1;32m      7\u001b[0m \u001b[0;34m\u001b[0m\u001b[0m\n\u001b[0;32m----> 8\u001b[0;31m \u001b[0moneover\u001b[0m\u001b[0;34m(\u001b[0m\u001b[0;36m0\u001b[0m\u001b[0;34m)\u001b[0m\u001b[0;34m\u001b[0m\u001b[0m\n\u001b[0m",
      "\u001b[0;32m<ipython-input-37-fe51615f564a>\u001b[0m in \u001b[0;36moneover\u001b[0;34m(i)\u001b[0m\n\u001b[1;32m      2\u001b[0m \u001b[0;34m\u001b[0m\u001b[0m\n\u001b[1;32m      3\u001b[0m     \u001b[0;32mif\u001b[0m \u001b[0mi\u001b[0m \u001b[0;34m==\u001b[0m \u001b[0;36m0\u001b[0m\u001b[0;34m:\u001b[0m\u001b[0;34m\u001b[0m\u001b[0m\n\u001b[0;32m----> 4\u001b[0;31m         \u001b[0;32mraise\u001b[0m \u001b[0mValueError\u001b[0m\u001b[0;34m(\u001b[0m\u001b[0;34m'Expecting a non-zero number'\u001b[0m\u001b[0;34m)\u001b[0m\u001b[0;34m\u001b[0m\u001b[0m\n\u001b[0m\u001b[1;32m      5\u001b[0m     \u001b[0;32mreturn\u001b[0m \u001b[0;36m1\u001b[0m\u001b[0;34m/\u001b[0m\u001b[0mi\u001b[0m\u001b[0;34m\u001b[0m\u001b[0m\n\u001b[1;32m      6\u001b[0m \u001b[0;34m\u001b[0m\u001b[0m\n",
      "\u001b[0;31mValueError\u001b[0m: Expecting a non-zero number"
     ]
    }
   ],
   "source": [
    "def oneover(i):\n",
    "\n",
    "    if i == 0:\n",
    "        raise ValueError('Expecting a non-zero number')\n",
    "    return 1/i\n",
    "\n",
    "\n",
    "oneover(0)"
   ]
  },
  {
   "cell_type": "markdown",
   "metadata": {
    "slideshow": {
     "slide_type": "subslide"
    }
   },
   "source": [
    "# Raising `Exception`s\n",
    "\n",
    "- You can define custom `Exception` objects\n",
    "- This is an example of *object-oriented programming*, which we won't cover further"
   ]
  },
  {
   "cell_type": "code",
   "execution_count": 38,
   "metadata": {
    "scrolled": true
   },
   "outputs": [
    {
     "ename": "OneOverError",
     "evalue": "Expecting a non-zero number",
     "output_type": "error",
     "traceback": [
      "\u001b[0;31m---------------------------------------------------------------------------\u001b[0m",
      "\u001b[0;31mOneOverError\u001b[0m                              Traceback (most recent call last)",
      "\u001b[0;32m<ipython-input-38-8f3611f8fb61>\u001b[0m in \u001b[0;36m<module>\u001b[0;34m()\u001b[0m\n\u001b[1;32m      9\u001b[0m \u001b[0;34m\u001b[0m\u001b[0m\n\u001b[1;32m     10\u001b[0m \u001b[0;34m\u001b[0m\u001b[0m\n\u001b[0;32m---> 11\u001b[0;31m \u001b[0moneover\u001b[0m\u001b[0;34m(\u001b[0m\u001b[0;36m0\u001b[0m\u001b[0;34m)\u001b[0m\u001b[0;34m\u001b[0m\u001b[0m\n\u001b[0m",
      "\u001b[0;32m<ipython-input-38-8f3611f8fb61>\u001b[0m in \u001b[0;36moneover\u001b[0;34m(i)\u001b[0m\n\u001b[1;32m      5\u001b[0m \u001b[0;34m\u001b[0m\u001b[0m\n\u001b[1;32m      6\u001b[0m     \u001b[0;32mif\u001b[0m \u001b[0mi\u001b[0m \u001b[0;34m==\u001b[0m \u001b[0;36m0\u001b[0m\u001b[0;34m:\u001b[0m\u001b[0;34m\u001b[0m\u001b[0m\n\u001b[0;32m----> 7\u001b[0;31m         \u001b[0;32mraise\u001b[0m \u001b[0mOneOverError\u001b[0m\u001b[0;34m(\u001b[0m\u001b[0;34m'Expecting a non-zero number'\u001b[0m\u001b[0;34m)\u001b[0m\u001b[0;34m\u001b[0m\u001b[0m\n\u001b[0m\u001b[1;32m      8\u001b[0m     \u001b[0;32mreturn\u001b[0m \u001b[0;36m1\u001b[0m\u001b[0;34m/\u001b[0m\u001b[0mi\u001b[0m\u001b[0;34m\u001b[0m\u001b[0m\n\u001b[1;32m      9\u001b[0m \u001b[0;34m\u001b[0m\u001b[0m\n",
      "\u001b[0;31mOneOverError\u001b[0m: Expecting a non-zero number"
     ]
    }
   ],
   "source": [
    "class OneOverError(Exception): pass\n",
    "\n",
    "def oneover(i):\n",
    "    if i == 0:\n",
    "        raise OneOverError('Expecting a non-zero number')\n",
    "    return 1/i\n",
    "\n",
    "oneover(0)"
   ]
  },
  {
   "cell_type": "markdown",
   "metadata": {
    "slideshow": {
     "slide_type": "slide"
    }
   },
   "source": [
    "# Let's get to work!"
   ]
  }
 ],
 "metadata": {
  "celltoolbar": "Slideshow",
  "kernelspec": {
   "display_name": "Python 3",
   "language": "python",
   "name": "python3"
  },
  "language_info": {
   "codemirror_mode": {
    "name": "ipython",
    "version": 3
   },
   "file_extension": ".py",
   "mimetype": "text/x-python",
   "name": "python",
   "nbconvert_exporter": "python",
   "pygments_lexer": "ipython3",
   "version": "3.6.5"
  }
 },
 "nbformat": 4,
 "nbformat_minor": 2
}
